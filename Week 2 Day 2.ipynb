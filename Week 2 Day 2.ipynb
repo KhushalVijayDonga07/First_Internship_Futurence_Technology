{
 "cells": [
  {
   "cell_type": "code",
   "execution_count": 25,
   "id": "791f8309",
   "metadata": {},
   "outputs": [
    {
     "name": "stdout",
     "output_type": "stream",
     "text": [
      "<class 'tuple'>\n",
      "[1, 2, 3, 4, 5]\n"
     ]
    }
   ],
   "source": [
    "# 1] Write a Python Code Program to Flatten Tuple of List to Tuple \n",
    "\n",
    "#Flatten Tuple of List \n",
    "Flatten_tuple =([1,2],[3,4],[5])\n",
    "print(type(Flatten_tuple))\n",
    "\n",
    "#Covert Into Tuple\n",
    "    \n",
    "list_to_tuple=[]\n",
    "for i in Flatten_tuple:\n",
    "    for j in i:\n",
    "        list_to_tuple+=(j,)\n",
    "print(list_to_tuple)\n"
   ]
  },
  {
   "cell_type": "code",
   "execution_count": 48,
   "id": "b3e05c3e",
   "metadata": {},
   "outputs": [
    {
     "name": "stdout",
     "output_type": "stream",
     "text": [
      "Tuple into Set is  {1, 2, 3, 4, 5, 'Khushal'}\n",
      "Set into Tuple is  (1, 2, 3, 4, 5, 'Khushal')\n"
     ]
    }
   ],
   "source": [
    "#2]Python Program to Convert Set Into Tuple and Tuple into Set\n",
    "\n",
    "#Directly Coverting \n",
    "# #Set of Integers and Variable\n",
    "# set1={1,2,3,4,5,\"Khushal\"}\n",
    "# print(type(set1))\n",
    "\n",
    "# #Coverting into Tuple\n",
    "# set_to_tuple=tuple(set1)\n",
    "# print(set_to_tuple)\n",
    "# print(type(set_to_tuple))\n",
    "\n",
    "#Converting with Function Creation \n",
    "\n",
    "def set_to_tuple(num):\n",
    "    converting_tuple=tuple(num)\n",
    "    print(\"Set into Tuple is \",converting_tuple)\n",
    "    #return converting_tuple\n",
    "\n",
    "def tuple_to_set(num):\n",
    "    converting_set=set(num)\n",
    "    print(\"Tuple into Set is \",converting_set)\n",
    "    #return converting_set\n",
    "    \n",
    "num=(1,2,3,4,5,\"Khushal\")\n",
    "tuple_to_set(num)\n",
    "\n",
    "num={1,2,3,4,5,\"Khushal\"}\n",
    "set_to_tuple(num)\n"
   ]
  },
  {
   "cell_type": "code",
   "execution_count": 2,
   "id": "daa39834",
   "metadata": {},
   "outputs": [
    {
     "name": "stdout",
     "output_type": "stream",
     "text": [
      "<class 'list'>\n",
      "(['Name', 'Khushal', 'Age', 20], ['Name', 'Khushal', 'Age', 20])\n"
     ]
    }
   ],
   "source": [
    "#3] Convert List of Dictionary to Tuple List Python\n",
    "list_dist=[{\"Name\":\"Khushal\"},{\"Age\":20}]\n",
    "print(type(list_dist))\n",
    "\n",
    "tuple1=()\n",
    "list1=[]\n",
    "for dist in list_dist:\n",
    "    for i in dist:\n",
    "        list1+=[i,dist[i]]\n",
    "    tuple1+=(list1,)\n",
    "print(tuple1)\n",
    "\n",
    "\n"
   ]
  },
  {
   "cell_type": "code",
   "execution_count": 5,
   "id": "9e871fa6",
   "metadata": {},
   "outputs": [
    {
     "name": "stdout",
     "output_type": "stream",
     "text": [
      "[('cherry', 1), ('banana', 3), ('apple', 5)]\n"
     ]
    }
   ],
   "source": [
    "# 4] Python | Sort Tuple List by Nth Element of Tuple \n",
    "\n",
    "def sort_by_nth_element(data, n):\n",
    "    data.sort(key=lambda x: x[n])\n",
    "    return data\n",
    "\n",
    "data = [('apple', 5), ('banana', 3), ('cherry', 1)]\n",
    "sorted_data = sort_by_nth_element(data.copy(), 1) \n",
    "print(sorted_data)\n",
    "\n",
    "#Taken the Help from the Website for Understanding the way and Step to solve this Question"
   ]
  },
  {
   "cell_type": "code",
   "execution_count": 13,
   "id": "40efd3a6",
   "metadata": {},
   "outputs": [
    {
     "name": "stdout",
     "output_type": "stream",
     "text": [
      "The indices in target_tuple are: [1, 3]\n"
     ]
    }
   ],
   "source": [
    "# 5] Python Program to Find Tuple Indices from other Tuple List\n",
    "list_tuple=[(13,29,43),(42,56,16),(71,18,89),(10,15,78)]\n",
    "target_tuple=[(42,56,16),(10,15,78)]\n",
    "index_list=[]\n",
    "\n",
    "for i in list_tuple:\n",
    "    if i in target_tuple:\n",
    "        index_list=index_list+[list_tuple.index(i)]\n",
    "        \n",
    "print(\"The indices in target_tuple are:\",index_list)"
   ]
  },
  {
   "cell_type": "code",
   "execution_count": 16,
   "id": "80bb7174",
   "metadata": {},
   "outputs": [
    {
     "name": "stdout",
     "output_type": "stream",
     "text": [
      "Modified dictionary is: [{'Name': 'Khushal', 'Age': 20}, {'Name': 'Krish', 'Age': 19}, {}]\n"
     ]
    }
   ],
   "source": [
    "# 6] Convert Dictionary Value List to Dictionary List Python\n",
    "dist={\"Name\":[\"Khushal\",\"Krish\"],\"Age\":[20,19]}\n",
    "n=0\n",
    "distnew =[{} for n in range(len(dic))]\n",
    "for i in dist:\n",
    "    for key,value in dist.items():\n",
    "        for val in value:\n",
    "            distnew[n][key]=val\n",
    "            n+=1\n",
    "        n=0\n",
    "print(\"Modified dictionary is:\",distnew)\n"
   ]
  },
  {
   "cell_type": "code",
   "execution_count": null,
   "id": "19700838",
   "metadata": {},
   "outputs": [],
   "source": []
  }
 ],
 "metadata": {
  "kernelspec": {
   "display_name": "Python 3 (ipykernel)",
   "language": "python",
   "name": "python3"
  },
  "language_info": {
   "codemirror_mode": {
    "name": "ipython",
    "version": 3
   },
   "file_extension": ".py",
   "mimetype": "text/x-python",
   "name": "python",
   "nbconvert_exporter": "python",
   "pygments_lexer": "ipython3",
   "version": "3.9.12"
  }
 },
 "nbformat": 4,
 "nbformat_minor": 5
}
