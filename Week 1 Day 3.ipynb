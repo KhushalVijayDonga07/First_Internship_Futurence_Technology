{
 "cells": [
  {
   "cell_type": "code",
   "execution_count": 2,
   "id": "250095d1",
   "metadata": {},
   "outputs": [
    {
     "name": "stdout",
     "output_type": "stream",
     "text": [
      "Enter 1st Number :- 56\n",
      "Enter 2nd Number :- 77\n",
      "The Sum of 2 Number is :-  133\n"
     ]
    }
   ],
   "source": [
    "num1= int(input(\"Enter 1st Number :- \"))\n",
    "num2= int(input(\"Enter 2nd Number :- \"))\n",
    "sumof2=num1+num2\n",
    "print(\"The Sum of 2 Number is :- \",sumof2)"
   ]
  },
  {
   "cell_type": "code",
   "execution_count": 3,
   "id": "93b57e2b",
   "metadata": {},
   "outputs": [
    {
     "name": "stdout",
     "output_type": "stream",
     "text": [
      "Enter 1st Number :- 56\n",
      "Enter 2nd Number :- 77\n",
      "2nd Number is Maximum\n"
     ]
    }
   ],
   "source": [
    "num1= int(input(\"Enter 1st Number :- \"))\n",
    "num2= int(input(\"Enter 2nd Number :- \"))\n",
    "if num1>num2:\n",
    "    print(\"1st Number is Maximum\")\n",
    "elif num1==num2:\n",
    "    print(\"Both are Equal\")\n",
    "    \n",
    "else:\n",
    "    print(\"2nd Number is Maximum\")"
   ]
  },
  {
   "cell_type": "code",
   "execution_count": null,
   "id": "f89c8f75",
   "metadata": {},
   "outputs": [],
   "source": []
  },
  {
   "cell_type": "code",
   "execution_count": 11,
   "id": "28fff362",
   "metadata": {},
   "outputs": [
    {
     "name": "stdout",
     "output_type": "stream",
     "text": [
      "120\n"
     ]
    }
   ],
   "source": [
    "num =5\n",
    "fact=1\n",
    "for i in range(1,num+1):\n",
    "    fact=fact*i\n",
    "print(fact)"
   ]
  },
  {
   "cell_type": "code",
   "execution_count": 13,
   "id": "8eb72281",
   "metadata": {},
   "outputs": [
    {
     "name": "stdout",
     "output_type": "stream",
     "text": [
      "Enter Principle Amount :- 50000\n",
      "Enter Prnciple Rate of Interest :- 2.5\n",
      "Enter Time :- 1\n",
      "1250.0\n"
     ]
    }
   ],
   "source": [
    "principle=float(input(\"Enter Principle Amount :- \"))\n",
    "rate=float(input(\"Enter Prnciple Rate of Interest :- \"))\n",
    "time=float(input(\"Enter Time :- \"))\n",
    "SimpleInterset=(principle*rate*time)/100\n",
    "print(SimpleInterset)"
   ]
  },
  {
   "cell_type": "code",
   "execution_count": null,
   "id": "31bbb739",
   "metadata": {},
   "outputs": [],
   "source": []
  },
  {
   "cell_type": "code",
   "execution_count": 19,
   "id": "a0a1e234",
   "metadata": {},
   "outputs": [
    {
     "name": "stdout",
     "output_type": "stream",
     "text": [
      "Enter Principle Amount :- 50000\n",
      "Enter Prnciple Rate of Interest :- 10\n",
      "Enter Time :- 2\n",
      "60500.00000000001\n"
     ]
    }
   ],
   "source": [
    "principle=float(input(\"Enter Principle Amount :- \"))\n",
    "rate=float(input(\"Enter Prnciple Rate of Interest :- \"))\n",
    "time=float(input(\"Enter Time :- \"))\n",
    "CompoundInterset=principle*(1+(rate/100))**time\n",
    "print(CompoundInterset)"
   ]
  },
  {
   "cell_type": "code",
   "execution_count": 29,
   "id": "568173ee",
   "metadata": {},
   "outputs": [
    {
     "name": "stdout",
     "output_type": "stream",
     "text": [
      "Enter Number :- 1634\n",
      "Not\n"
     ]
    }
   ],
   "source": [
    "num1= input(\"Enter Number :- \")\n",
    "sum1=0\n",
    "for i in num1:\n",
    "    i=int(i)\n",
    "    sum1+=i*i*i\n",
    "if sum1==int(num1):\n",
    "    print(\"Armstrong\")\n",
    "else:\n",
    "    print(\"Not\")\n",
    "    "
   ]
  },
  {
   "cell_type": "code",
   "execution_count": 31,
   "id": "db34ad32",
   "metadata": {},
   "outputs": [
    {
     "name": "stdout",
     "output_type": "stream",
     "text": [
      "Enter Radius of a Circle:- 3\n",
      "28.259999999999998\n"
     ]
    }
   ],
   "source": [
    "radius=int(input(\"Enter Radius of a Circle:- \"))\n",
    "areaofCircle=3.14*radius*radius\n",
    "print(areaofCircle)"
   ]
  },
  {
   "cell_type": "code",
   "execution_count": 38,
   "id": "c78db01b",
   "metadata": {},
   "outputs": [
    {
     "name": "stdout",
     "output_type": "stream",
     "text": [
      "Enter upper bound :- 2\n",
      "Enter upper bound :- 30\n",
      "2\n",
      "3\n",
      "5\n",
      "7\n",
      "11\n",
      "13\n",
      "17\n",
      "19\n",
      "23\n",
      "29\n"
     ]
    }
   ],
   "source": [
    "def prime(num):\n",
    "    count=0\n",
    "    for i in range(2,num):\n",
    "        if num%i==0:\n",
    "            count+=1\n",
    "    if count==0:\n",
    "        print(num)\n",
    "a=int(input(\"Enter upper bound :- \"))\n",
    "b=int(input(\"Enter upper bound :- \"))\n",
    "for i in range(a,b+1):\n",
    "    prime(i)\n"
   ]
  },
  {
   "cell_type": "code",
   "execution_count": 35,
   "id": "0fcefa5b",
   "metadata": {},
   "outputs": [
    {
     "name": "stdout",
     "output_type": "stream",
     "text": [
      "Enter number :- 5\n",
      "Prime number\n"
     ]
    }
   ],
   "source": [
    "num=int(input(\"Enter number :- \"))\n",
    "count=0\n",
    "for i in range(2,num):\n",
    "    if num%i==0:\n",
    "        count+=1\n",
    "if count!=0:\n",
    "    print(\"Not a prime number\")\n",
    "else:\n",
    "    print(\"Prime number\")"
   ]
  },
  {
   "cell_type": "code",
   "execution_count": 1,
   "id": "b358d9cf",
   "metadata": {},
   "outputs": [],
   "source": [
    "# def factorial(num):\n",
    "#     if(num==0 or num==1):\n",
    "#         print(1)\n",
    "#     else:\n",
    "#         factorial(num)*factorial(num-1)\n",
    "\n",
    "# num1= int(input(\"Enter Number :- \"))\n",
    "# print(factorial(num))"
   ]
  },
  {
   "cell_type": "code",
   "execution_count": 39,
   "id": "e6c154e7",
   "metadata": {},
   "outputs": [
    {
     "name": "stdout",
     "output_type": "stream",
     "text": [
      "Enter number :-5\n",
      "0,1,1,2,3,"
     ]
    }
   ],
   "source": [
    "def fib(num):\n",
    "    fib=[0,1]\n",
    "    for i in range(num):\n",
    "        fib+=[fib[-1]+fib[-2]]\n",
    "        print(fib[i],end=',')\n",
    "fib(int(input(\"Enter number :-\")))"
   ]
  }
 ],
 "metadata": {
  "kernelspec": {
   "display_name": "Python 3 (ipykernel)",
   "language": "python",
   "name": "python3"
  },
  "language_info": {
   "codemirror_mode": {
    "name": "ipython",
    "version": 3
   },
   "file_extension": ".py",
   "mimetype": "text/x-python",
   "name": "python",
   "nbconvert_exporter": "python",
   "pygments_lexer": "ipython3",
   "version": "3.9.12"
  }
 },
 "nbformat": 4,
 "nbformat_minor": 5
}
