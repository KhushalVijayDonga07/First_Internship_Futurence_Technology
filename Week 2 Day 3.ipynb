{
 "cells": [
  {
   "cell_type": "code",
   "execution_count": 8,
   "id": "7ee45e48",
   "metadata": {},
   "outputs": [
    {
     "name": "stdout",
     "output_type": "stream",
     "text": [
      "The Multiple of Given Tuple is :- -864\n"
     ]
    }
   ],
   "source": [
    "#1.Write a Python program to calculate the product, multiplying all the numbers in a given tuple.\n",
    "\n",
    "given_tuple=(4, 3, 2, 2, -1, 18)\n",
    "Multiple_of_tuple=1\n",
    "\n",
    "for i in given_tuple:\n",
    "    Multiple_of_tuple*=i\n",
    "    \n",
    "print(\"The Multiple of Given Tuple is :-\",Multiple_of_tuple)\n"
   ]
  },
  {
   "cell_type": "code",
   "execution_count": 14,
   "id": "43e752aa",
   "metadata": {},
   "outputs": [
    {
     "name": "stdout",
     "output_type": "stream",
     "text": [
      "Input is: ((10, 10, 10, 12), (30, 45, 56, 45), (81, 80, 39, 32), (1, 2, 3, 4))\n",
      "The average is: [30.5  34.25 27.   23.25]\n"
     ]
    }
   ],
   "source": [
    "#2.Write a Python program to calculate the average value of the numbers in a given tuple of tuples.\n",
    "import numpy as np\n",
    "\n",
    "maint = ((10, 10, 10, 12), (30, 45, 56, 45), (81, 80, 39, 32), (1, 2, 3, 4))\n",
    "print(\"Input is:\", maint)\n",
    "\n",
    "average = np.mean(maint, axis=0)\n",
    "print(\"The average is:\", average)\n"
   ]
  },
  {
   "cell_type": "code",
   "execution_count": null,
   "id": "f4dcc6b7",
   "metadata": {},
   "outputs": [],
   "source": []
  }
 ],
 "metadata": {
  "kernelspec": {
   "display_name": "Python 3 (ipykernel)",
   "language": "python",
   "name": "python3"
  },
  "language_info": {
   "codemirror_mode": {
    "name": "ipython",
    "version": 3
   },
   "file_extension": ".py",
   "mimetype": "text/x-python",
   "name": "python",
   "nbconvert_exporter": "python",
   "pygments_lexer": "ipython3",
   "version": "3.9.12"
  }
 },
 "nbformat": 4,
 "nbformat_minor": 5
}
